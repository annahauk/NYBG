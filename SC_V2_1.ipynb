{
  "cells": [
    {
      "cell_type": "code",
      "execution_count": 72,
      "metadata": {
        "id": "CSea07t3_-ap"
      },
      "outputs": [],
      "source": [
        "# ! kaggle competitions download -c bttai-nybg-2024"
      ]
    },
    {
      "cell_type": "code",
      "execution_count": 73,
      "metadata": {
        "id": "8pJ18j8xBfRC"
      },
      "outputs": [],
      "source": [
        "# ! unzip \"bttai-nybg-2024\" -d \"bttai-nybg-2024\""
      ]
    },
    {
      "cell_type": "code",
      "execution_count": 74,
      "metadata": {
        "id": "8e7hdNtcHF84"
      },
      "outputs": [],
      "source": [
        "import numpy as np\n",
        "import pandas as pd\n",
        "from tensorflow.keras.preprocessing.image import ImageDataGenerator\n",
        "from tensorflow.keras.applications import InceptionV3, DenseNet121\n",
        "from tensorflow.keras.applications.inception_v3 import preprocess_input\n",
        "from tensorflow.keras.models import Model\n",
        "from tensorflow.keras.layers import Dense, GlobalAveragePooling2D, Concatenate, Input\n",
        "from tensorflow.keras.callbacks import EarlyStopping, ModelCheckpoint\n",
        "from tensorflow.keras.optimizers import Adam"
      ]
    },
    {
      "cell_type": "code",
      "execution_count": 75,
      "metadata": {
        "id": "1-3KRIwiqCXO"
      },
      "outputs": [],
      "source": [
        "filename_train = \"./bttai-nybg-2024/BTTAIxNYBG-train.csv\"\n",
        "df_train = pd.read_csv(filename_train)\n",
        "filename_test = \"./bttai-nybg-2024/BTTAIxNYBG-test.csv\"\n",
        "df_test = pd.read_csv(filename_test)\n",
        "filename_val = \"./bttai-nybg-2024/BTTAIxNYBG-validation.csv\"\n",
        "df_val = pd.read_csv(filename_val)"
      ]
    },
    {
      "cell_type": "code",
      "execution_count": 76,
      "metadata": {
        "id": "s8MSJG56sNQA"
      },
      "outputs": [],
      "source": [
        "train_image_directory = \"./bttai-nybg-2024/BTTAIxNYBG-train/BTTAIxNYBG-train\"\n",
        "validation_image_directory = \"./bttai-nybg-2024/BTTAIxNYBG-validation/BTTAIxNYBG-validation\"\n"
      ]
    },
    {
      "cell_type": "code",
      "execution_count": 77,
      "metadata": {
        "id": "4Hi5WGALqE0U"
      },
      "outputs": [],
      "source": [
        "datagen = ImageDataGenerator(rescale=1./255, preprocessing_function=preprocess_input)"
      ]
    },
    {
      "cell_type": "code",
      "execution_count": 78,
      "metadata": {
        "colab": {
          "base_uri": "https://localhost:8080/"
        },
        "id": "4x98zqegqIf-",
        "outputId": "0ab1d95d-6e8b-4538-8df4-16c3ae9fc894"
      },
      "outputs": [
        {
          "name": "stdout",
          "output_type": "stream",
          "text": [
            "Found 81946 validated image filenames belonging to 10 classes.\n"
          ]
        }
      ],
      "source": [
        "train_generator = datagen.flow_from_dataframe(\n",
        "    dataframe=df_train,\n",
        "    directory=train_image_directory,\n",
        "    x_col='imageFile',\n",
        "    y_col='classLabel',\n",
        "    target_size=(224, 224),\n",
        "    batch_size=32,\n",
        "    class_mode='categorical',\n",
        "    shuffle = True)"
      ]
    },
    {
      "cell_type": "code",
      "execution_count": 79,
      "metadata": {
        "colab": {
          "base_uri": "https://localhost:8080/"
        },
        "id": "qQZdGU34qK_q",
        "outputId": "5f991645-8dcf-485c-b49c-0f5aba17471a"
      },
      "outputs": [
        {
          "name": "stdout",
          "output_type": "stream",
          "text": [
            "Found 10244 validated image filenames belonging to 10 classes.\n"
          ]
        }
      ],
      "source": [
        "validation_generator = datagen.flow_from_dataframe(\n",
        "    dataframe=df_val,\n",
        "    directory=validation_image_directory,\n",
        "    x_col='imageFile',\n",
        "    y_col='classLabel',\n",
        "    target_size=(224, 224),\n",
        "    batch_size=32,\n",
        "    class_mode='categorical',\n",
        "    shuffle = True)"
      ]
    },
    {
      "cell_type": "code",
      "execution_count": 80,
      "metadata": {
        "id": "as9scFb6qNU4"
      },
      "outputs": [],
      "source": [
        "inception_base = InceptionV3(weights='imagenet', include_top=False, input_shape=(224, 224, 3))\n",
        "densenet_base = DenseNet121(weights='imagenet', include_top=False, input_shape=(224, 224, 3))\n"
      ]
    },
    {
      "cell_type": "code",
      "execution_count": 81,
      "metadata": {
        "id": "ofQpqT2_qP3a"
      },
      "outputs": [],
      "source": [
        "for layer in inception_base.layers:\n",
        "    layer.trainable = False\n",
        "\n",
        "for layer in densenet_base.layers:\n",
        "    layer.trainable = False"
      ]
    },
    {
      "cell_type": "code",
      "execution_count": 82,
      "metadata": {
        "id": "cPe0XqorqScN"
      },
      "outputs": [],
      "source": [
        "inception_output = GlobalAveragePooling2D()(inception_base.output)\n",
        "densenet_output = GlobalAveragePooling2D()(densenet_base.output)"
      ]
    },
    {
      "cell_type": "code",
      "execution_count": 83,
      "metadata": {
        "id": "BGRyDxmwqUtP"
      },
      "outputs": [],
      "source": [
        "concatenated = Concatenate()([inception_output, densenet_output])"
      ]
    },
    {
      "cell_type": "code",
      "execution_count": 84,
      "metadata": {
        "id": "cOUexxjKqoEj"
      },
      "outputs": [],
      "source": [
        "classes = list(df_train[\"classLabel\"].unique())"
      ]
    },
    {
      "cell_type": "code",
      "execution_count": 85,
      "metadata": {
        "id": "2c0C0aH7qYbe"
      },
      "outputs": [],
      "source": [
        "x = Dense(1024, activation='relu')(concatenated)\n",
        "predictions = Dense(len(classes), activation='softmax')(x)"
      ]
    },
    {
      "cell_type": "code",
      "execution_count": 86,
      "metadata": {
        "id": "o8d2AYx-qpPy"
      },
      "outputs": [],
      "source": [
        "model = Model(inputs=[inception_base.input, densenet_base.input], outputs=predictions)\n",
        "model.compile(optimizer='adam', loss='categorical_crossentropy', metrics=['accuracy'])\n"
      ]
    },
    {
      "cell_type": "code",
      "execution_count": 87,
      "metadata": {
        "id": "5bKeYUNAq3mx"
      },
      "outputs": [],
      "source": [
        "# Since we now have two inputs, we need to adjust our data generators accordingly\n",
        "def dual_generator(generator):\n",
        "    while True:\n",
        "        x, y = next(generator)\n",
        "        yield [x, x], y"
      ]
    },
    {
      "cell_type": "code",
      "execution_count": 88,
      "metadata": {
        "id": "jgZjZukxq6fo"
      },
      "outputs": [],
      "source": [
        "train_dual_generator = dual_generator(train_generator)\n",
        "validation_dual_generator = dual_generator(validation_generator)"
      ]
    },
    {
      "cell_type": "code",
      "execution_count": 89,
      "metadata": {
        "id": "u6Su4GxPDqGf"
      },
      "outputs": [],
      "source": [
        "early_stopping = EarlyStopping(\n",
        "    monitor='val_loss',  # Monitor validation loss\n",
        "    patience=3,  # number of epochs with no improvement after which training will be stopped\n",
        "    verbose=1,\n",
        "    mode='min',  # the training will stop when the quantity monitored has stopped decreasing\n",
        "    restore_best_weights=True  # restore model weights from the epoch with the best value of the monitored quantity\n",
        ")"
      ]
    },
    {
      "cell_type": "code",
      "execution_count": 90,
      "metadata": {
        "id": "_QX88F-VEAS8"
      },
      "outputs": [],
      "source": [
        "model_checkpoint = ModelCheckpoint(\n",
        "    filepath='best_Emodel',  # path where to save the model\n",
        "    monitor='val_loss',\n",
        "    save_best_only=True,  # only save a model if `val_loss` has improved\n",
        "    verbose=1,\n",
        "    mode='min'\n",
        ")"
      ]
    },
    {
      "cell_type": "code",
      "execution_count": null,
      "metadata": {
        "colab": {
          "base_uri": "https://localhost:8080/"
        },
        "id": "fH6sDJFwD1Pe",
        "outputId": "960b55c9-482a-4e6e-faf7-ccfb25e8c644"
      },
      "outputs": [
        {
          "name": "stdout",
          "output_type": "stream",
          "text": [
            "Epoch 1/10\n",
            "2561/2561 [==============================] - ETA: 0s - loss: 0.9354 - accuracy: 0.6761\n",
            "Epoch 1: val_loss improved from inf to 0.66147, saving model to best_Emodel\n",
            "2561/2561 [==============================] - 726s 279ms/step - loss: 0.9354 - accuracy: 0.6761 - val_loss: 0.6615 - val_accuracy: 0.7723\n",
            "Epoch 2/10\n",
            "2561/2561 [==============================] - ETA: 0s - loss: 0.6512 - accuracy: 0.7752\n",
            "Epoch 2: val_loss improved from 0.66147 to 0.58250, saving model to best_Emodel\n",
            "2561/2561 [==============================] - 708s 277ms/step - loss: 0.6512 - accuracy: 0.7752 - val_loss: 0.5825 - val_accuracy: 0.7978\n",
            "Epoch 3/10\n",
            "2561/2561 [==============================] - ETA: 0s - loss: 0.5740 - accuracy: 0.7997\n",
            "Epoch 3: val_loss improved from 0.58250 to 0.53149, saving model to best_Emodel\n",
            "2561/2561 [==============================] - 712s 278ms/step - loss: 0.5740 - accuracy: 0.7997 - val_loss: 0.5315 - val_accuracy: 0.8178\n",
            "Epoch 4/10\n",
            "2561/2561 [==============================] - ETA: 0s - loss: 0.5234 - accuracy: 0.8174\n",
            "Epoch 4: val_loss did not improve from 0.53149\n",
            "2561/2561 [==============================] - 661s 258ms/step - loss: 0.5234 - accuracy: 0.8174 - val_loss: 0.5358 - val_accuracy: 0.8103\n",
            "Epoch 5/10\n",
            "2561/2561 [==============================] - ETA: 0s - loss: 0.4912 - accuracy: 0.8285\n",
            "Epoch 5: val_loss did not improve from 0.53149\n",
            "2561/2561 [==============================] - 660s 258ms/step - loss: 0.4912 - accuracy: 0.8285 - val_loss: 0.5777 - val_accuracy: 0.8037\n",
            "Epoch 6/10\n",
            "2561/2561 [==============================] - ETA: 0s - loss: 0.4645 - accuracy: 0.8385\n",
            "Epoch 6: val_loss improved from 0.53149 to 0.47535, saving model to best_Emodel\n",
            "2561/2561 [==============================] - 723s 283ms/step - loss: 0.4645 - accuracy: 0.8385 - val_loss: 0.4754 - val_accuracy: 0.8319\n",
            "Epoch 7/10\n",
            "2561/2561 [==============================] - ETA: 0s - loss: 0.4445 - accuracy: 0.8443\n",
            "Epoch 7: val_loss improved from 0.47535 to 0.45687, saving model to best_Emodel\n",
            "2561/2561 [==============================] - 724s 283ms/step - loss: 0.4445 - accuracy: 0.8443 - val_loss: 0.4569 - val_accuracy: 0.8401\n",
            "Epoch 8/10\n",
            "2561/2561 [==============================] - ETA: 0s - loss: 0.4276 - accuracy: 0.8507\n",
            "Epoch 8: val_loss did not improve from 0.45687\n",
            "2561/2561 [==============================] - 665s 260ms/step - loss: 0.4276 - accuracy: 0.8507 - val_loss: 0.4693 - val_accuracy: 0.8381\n",
            "Epoch 9/10\n",
            "1474/2561 [================>.............] - ETA: 4:08 - loss: 0.4091 - accuracy: 0.8557"
          ]
        }
      ],
      "source": [
        "history = model.fit(\n",
        "    train_dual_generator,\n",
        "    steps_per_epoch=len(train_generator),\n",
        "    epochs=10,\n",
        "    validation_data=validation_dual_generator,\n",
        "    validation_steps=len(validation_generator),\n",
        "    callbacks=[early_stopping, model_checkpoint]\n",
        ")"
      ]
    },
    {
      "cell_type": "code",
      "execution_count": null,
      "metadata": {
        "id": "e__8AsdIIfry"
      },
      "outputs": [],
      "source": [
        "def dual_generator_forTest(generator):\n",
        "    while True:\n",
        "        x, _ = next(generator)\n",
        "        yield [x, x]"
      ]
    },
    {
      "cell_type": "code",
      "execution_count": null,
      "metadata": {
        "id": "8SeUgsGBI5OA"
      },
      "outputs": [],
      "source": [
        "test_datagen = ImageDataGenerator(rescale=1./255, preprocessing_function=preprocess_input)"
      ]
    },
    {
      "cell_type": "code",
      "execution_count": null,
      "metadata": {
        "id": "AZnIwlEyIwAW"
      },
      "outputs": [],
      "source": [
        "test_generator = test_datagen.flow_from_dataframe(\n",
        "    dataframe=df_test,\n",
        "    directory=\"./bttai-nybg-2024/BTTAIxNYBG-test/BTTAIxNYBG-test\",\n",
        "    x_col=\"imageFile\",\n",
        "    y_col= None,\n",
        "    target_size=(224, 224),\n",
        "    batch_size=32,\n",
        "    class_mode= None,\n",
        "    shuffle=False)  # No need to shuffle test data"
      ]
    },
    {
      "cell_type": "code",
      "execution_count": null,
      "metadata": {
        "id": "rDMJCtQVI_Sp"
      },
      "outputs": [],
      "source": [
        "# test_dual_generator = dual_generator_forTest(test_generator)\n",
        "# for some reason this does not work, so we will have to do it manually\n"
      ]
    },
    {
      "cell_type": "code",
      "execution_count": null,
      "metadata": {},
      "outputs": [],
      "source": [
        "predictions = []\n",
        "for _ in len(test_generator):\n",
        "    x = next(test_generator)\n",
        "    predictions.extend(model.predict([x,x]))"
      ]
    },
    {
      "cell_type": "code",
      "execution_count": null,
      "metadata": {},
      "outputs": [],
      "source": [
        "predicted_classes = np.argmax(predictions, axis=1)"
      ]
    },
    {
      "cell_type": "code",
      "execution_count": null,
      "metadata": {
        "id": "b6SIH4E_JBvM"
      },
      "outputs": [],
      "source": [
        "# predictions = model.predict(test_dual_generator, steps=len(test_generator))\n",
        "# predicted_classes = np.argmax(predictions, axis=1)\n",
        "# Does not work, so we will have to do it manually"
      ]
    },
    {
      "cell_type": "code",
      "execution_count": null,
      "metadata": {
        "id": "qO1-cAItWzZk"
      },
      "outputs": [],
      "source": [
        "submission_df = pd.DataFrame({\n",
        "    'uniqueID': df_test['uniqueID'],\n",
        "    'classID': predicted_classes\n",
        "})"
      ]
    },
    {
      "cell_type": "code",
      "execution_count": null,
      "metadata": {
        "id": "IFxGsXqPW2Cf"
      },
      "outputs": [],
      "source": [
        "submission_df.head()"
      ]
    },
    {
      "cell_type": "code",
      "execution_count": null,
      "metadata": {
        "id": "wfnVdt4sW36m"
      },
      "outputs": [],
      "source": [
        "submission_df.to_csv('submission.csv', index=False)"
      ]
    },
    {
      "cell_type": "code",
      "execution_count": null,
      "metadata": {
        "id": "lr5KqwwmW6d2"
      },
      "outputs": [],
      "source": [
        "! kaggle competitions submit -c bttai-nybg-2024 -f submission.csv -m \"Starflowers-NYC (Using Emodel)\""
      ]
    }
  ],
  "metadata": {
    "accelerator": "GPU",
    "colab": {
      "gpuType": "A100",
      "machine_shape": "hm",
      "provenance": []
    },
    "kernelspec": {
      "display_name": "Python 3",
      "name": "python3"
    },
    "language_info": {
      "codemirror_mode": {
        "name": "ipython",
        "version": 3
      },
      "file_extension": ".py",
      "mimetype": "text/x-python",
      "name": "python",
      "nbconvert_exporter": "python",
      "pygments_lexer": "ipython3",
      "version": "3.11.8"
    }
  },
  "nbformat": 4,
  "nbformat_minor": 0
}

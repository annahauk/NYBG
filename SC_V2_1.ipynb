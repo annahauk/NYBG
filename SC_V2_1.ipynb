{
  "cells": [
    {
      "cell_type": "code",
      "source": [
        "! kaggle competitions download -c bttai-nybg-2024"
      ],
      "metadata": {
        "colab": {
          "base_uri": "https://localhost:8080/"
        },
        "id": "CSea07t3_-ap",
        "outputId": "fa7d06a1-150c-4166-c8d4-fbbd689507d5"
      },
      "execution_count": null,
      "outputs": [
        {
          "output_type": "stream",
          "name": "stdout",
          "text": [
            "Downloading bttai-nybg-2024.zip to /content\n",
            "... resuming from 221249536 bytes (29485726023 bytes left) ...\n",
            " 84% 23.3G/27.7G [19:55<03:33, 22.2MB/s]"
          ]
        }
      ]
    },
    {
      "cell_type": "code",
      "source": [
        "! unzip \"bttai-nybg-2024\" -d \"bttai-nybg-2024\""
      ],
      "metadata": {
        "id": "8pJ18j8xBfRC"
      },
      "execution_count": null,
      "outputs": []
    },
    {
      "cell_type": "code",
      "execution_count": 2,
      "metadata": {
        "id": "8e7hdNtcHF84"
      },
      "outputs": [],
      "source": [
        "import numpy as np\n",
        "import pandas as pd\n",
        "from tensorflow.keras.preprocessing.image import ImageDataGenerator\n",
        "from tensorflow.keras.applications import InceptionV3, DenseNet121\n",
        "from tensorflow.keras.applications.inception_v3 import preprocess_input\n",
        "from tensorflow.keras.models import Model\n",
        "from tensorflow.keras.layers import Dense, GlobalAveragePooling2D, Concatenate, Input\n",
        "from tensorflow.keras.callbacks import EarlyStopping, ModelCheckpoint\n",
        "from tensorflow.keras.optimizers import Adam"
      ]
    },
    {
      "cell_type": "code",
      "source": [
        "filename_train = \"./bttai-nybg-2024/BTTAIxNYBG-train.csv\"\n",
        "df_train = pd.read_csv(filename_train)\n",
        "filename_test = \"./bttai-nybg-2024/BTTAIxNYBG-test.csv\"\n",
        "df_test = pd.read_csv(filename_test)\n",
        "filename_val = \"./bttai-nybg-2024/BTTAIxNYBG-validation.csv\"\n",
        "df_val = pd.read_csv(filename_val)"
      ],
      "metadata": {
        "id": "1-3KRIwiqCXO"
      },
      "execution_count": 3,
      "outputs": []
    },
    {
      "cell_type": "code",
      "source": [
        "train_image_directory = \"./bttai-nybg-2024/BTTAIxNYBG-train/BTTAIxNYBG-train\"\n",
        "validation_image_directory = \"./bttai-nybg-2024/BTTAIxNYBG-validation/BTTAIxNYBG-validation\"\n"
      ],
      "metadata": {
        "id": "s8MSJG56sNQA"
      },
      "execution_count": 7,
      "outputs": []
    },
    {
      "cell_type": "code",
      "source": [
        "datagen = ImageDataGenerator(rescale=1./255, preprocessing_function=preprocess_input)"
      ],
      "metadata": {
        "id": "4Hi5WGALqE0U"
      },
      "execution_count": 4,
      "outputs": []
    },
    {
      "cell_type": "code",
      "source": [
        "train_generator = datagen.flow_from_dataframe(\n",
        "    dataframe=df_train,\n",
        "    directory=train_image_directory,\n",
        "    x_col='imageFile',\n",
        "    y_col='classLabel',\n",
        "    target_size=(224, 224),\n",
        "    batch_size=32,\n",
        "    class_mode='categorical',\n",
        "    shuffle = True)"
      ],
      "metadata": {
        "colab": {
          "base_uri": "https://localhost:8080/"
        },
        "id": "4x98zqegqIf-",
        "outputId": "485bef16-5231-4d73-b65c-a31786bbaf7c"
      },
      "execution_count": 20,
      "outputs": [
        {
          "output_type": "stream",
          "name": "stdout",
          "text": [
            "Found 81946 validated image filenames belonging to 10 classes.\n"
          ]
        }
      ]
    },
    {
      "cell_type": "code",
      "source": [
        "validation_generator = datagen.flow_from_dataframe(\n",
        "    dataframe=df_val,\n",
        "    directory=validation_image_directory,\n",
        "    x_col='imageFile',\n",
        "    y_col='classLabel',\n",
        "    target_size=(224, 224),\n",
        "    batch_size=32,\n",
        "    class_mode='categorical',\n",
        "    shuffle = True)"
      ],
      "metadata": {
        "colab": {
          "base_uri": "https://localhost:8080/"
        },
        "id": "qQZdGU34qK_q",
        "outputId": "6067687f-8f8a-4e44-cbb2-84b764622e2f"
      },
      "execution_count": 21,
      "outputs": [
        {
          "output_type": "stream",
          "name": "stdout",
          "text": [
            "Found 10244 validated image filenames belonging to 10 classes.\n"
          ]
        }
      ]
    },
    {
      "cell_type": "code",
      "source": [
        "inception_base = InceptionV3(weights='imagenet', include_top=False, input_shape=(224, 224, 3))\n",
        "densenet_base = DenseNet121(weights='imagenet', include_top=False, input_shape=(224, 224, 3))\n"
      ],
      "metadata": {
        "colab": {
          "base_uri": "https://localhost:8080/"
        },
        "id": "as9scFb6qNU4",
        "outputId": "4959856d-9fb8-425b-e261-835f44428051"
      },
      "execution_count": 10,
      "outputs": [
        {
          "output_type": "stream",
          "name": "stdout",
          "text": [
            "Downloading data from https://storage.googleapis.com/tensorflow/keras-applications/densenet/densenet121_weights_tf_dim_ordering_tf_kernels_notop.h5\n",
            "29084464/29084464 [==============================] - 2s 0us/step\n"
          ]
        }
      ]
    },
    {
      "cell_type": "code",
      "source": [
        "for layer in inception_base.layers:\n",
        "    layer.trainable = False\n",
        "\n",
        "for layer in densenet_base.layers:\n",
        "    layer.trainable = False"
      ],
      "metadata": {
        "id": "ofQpqT2_qP3a"
      },
      "execution_count": 11,
      "outputs": []
    },
    {
      "cell_type": "code",
      "source": [
        "inception_output = GlobalAveragePooling2D()(inception_base.output)\n",
        "densenet_output = GlobalAveragePooling2D()(densenet_base.output)"
      ],
      "metadata": {
        "id": "cPe0XqorqScN"
      },
      "execution_count": 12,
      "outputs": []
    },
    {
      "cell_type": "code",
      "source": [
        "concatenated = Concatenate()([inception_output, densenet_output])"
      ],
      "metadata": {
        "id": "BGRyDxmwqUtP"
      },
      "execution_count": 13,
      "outputs": []
    },
    {
      "cell_type": "code",
      "source": [
        "classes = list(df_train[\"classLabel\"].unique())"
      ],
      "metadata": {
        "id": "cOUexxjKqoEj"
      },
      "execution_count": 14,
      "outputs": []
    },
    {
      "cell_type": "code",
      "source": [
        "x = Dense(1024, activation='relu')(concatenated)\n",
        "predictions = Dense(len(classes), activation='softmax')(x)"
      ],
      "metadata": {
        "id": "2c0C0aH7qYbe"
      },
      "execution_count": 15,
      "outputs": []
    },
    {
      "cell_type": "code",
      "source": [
        "model = Model(inputs=[inception_base.input, densenet_base.input], outputs=predictions)\n",
        "model.compile(optimizer='adam', loss='categorical_crossentropy', metrics=['accuracy'])\n"
      ],
      "metadata": {
        "id": "o8d2AYx-qpPy"
      },
      "execution_count": 16,
      "outputs": []
    },
    {
      "cell_type": "code",
      "source": [
        "# Since we now have two inputs, we need to adjust our data generators accordingly\n",
        "def dual_generator(generator):\n",
        "    while True:\n",
        "        x, y = next(generator)\n",
        "        yield [x, x], y"
      ],
      "metadata": {
        "id": "5bKeYUNAq3mx"
      },
      "execution_count": 17,
      "outputs": []
    },
    {
      "cell_type": "code",
      "source": [
        "train_dual_generator = dual_generator(train_generator)\n",
        "validation_dual_generator = dual_generator(validation_generator)"
      ],
      "metadata": {
        "id": "jgZjZukxq6fo"
      },
      "execution_count": 22,
      "outputs": []
    },
    {
      "cell_type": "code",
      "source": [
        "early_stopping = EarlyStopping(\n",
        "    monitor='val_loss',  # Monitor validation loss\n",
        "    patience=2,  # number of epochs with no improvement after which training will be stopped\n",
        "    verbose=1,\n",
        "    mode='min',  # the training will stop when the quantity monitored has stopped decreasing\n",
        "    restore_best_weights=True  # restore model weights from the epoch with the best value of the monitored quantity\n",
        ")"
      ],
      "metadata": {
        "id": "u6Su4GxPDqGf"
      },
      "execution_count": null,
      "outputs": []
    },
    {
      "cell_type": "code",
      "source": [
        "model_checkpoint = ModelCheckpoint(\n",
        "    filepath='best_Emodel',  # path where to save the model\n",
        "    monitor='val_loss',\n",
        "    save_best_only=True,  # only save a model if `val_loss` has improved\n",
        "    verbose=1,\n",
        "    mode='min'\n",
        ")"
      ],
      "metadata": {
        "id": "_QX88F-VEAS8"
      },
      "execution_count": null,
      "outputs": []
    },
    {
      "cell_type": "code",
      "source": [
        "history = model.fit(\n",
        "    train_dual_generator,\n",
        "    steps_per_epoch=len(train_generator),\n",
        "    epochs=10,\n",
        "    validation_data=validation_dual_generator,\n",
        "    validation_steps=len(validation_generator),\n",
        "    callbacks=[early_stopping, model_checkpoint]\n",
        ")"
      ],
      "metadata": {
        "id": "fH6sDJFwD1Pe"
      },
      "execution_count": null,
      "outputs": []
    },
    {
      "cell_type": "code",
      "source": [
        "test_datagen = ImageDataGenerator(rescale=1./255, preprocessing_function=preprocess_input)"
      ],
      "metadata": {
        "id": "z_6zAPuJD5GD"
      },
      "execution_count": null,
      "outputs": []
    },
    {
      "cell_type": "code",
      "source": [
        "test_generator = test_datagen.flow_from_dataframe(\n",
        "    dataframe=df_test,\n",
        "    directory=\"./bttai-nybg-2024/BTTAIxNYBG-test/BTTAIxNYBG-test\",\n",
        "    x_col=\"imageFile\",\n",
        "    y_col=None,\n",
        "    target_size=(224, 224),\n",
        "    batch_size=32,\n",
        "    class_mode=None,\n",
        "    shuffle=False)  # No need to shuffle test data"
      ],
      "metadata": {
        "id": "ztLmgYY1Ed1Q"
      },
      "execution_count": null,
      "outputs": []
    },
    {
      "cell_type": "code",
      "source": [
        "loss, accuracy = model.evaluate(test_generator)"
      ],
      "metadata": {
        "id": "K0chFsZxEkeH"
      },
      "execution_count": null,
      "outputs": []
    },
    {
      "cell_type": "code",
      "source": [
        "print(f\"Test loss: {loss}\")\n",
        "print(f\"Test accuracy: {accuracy}\")"
      ],
      "metadata": {
        "id": "s2jVV3WsEnau"
      },
      "execution_count": null,
      "outputs": []
    },
    {
      "cell_type": "code",
      "source": [
        "predictions = model.predict(test_generator)\n",
        "predicted_classes = np.argmax(predictions, axis=1)"
      ],
      "metadata": {
        "id": "ThFii02pEpqw"
      },
      "execution_count": null,
      "outputs": []
    },
    {
      "cell_type": "code",
      "source": [
        "submission_df = pd.DataFrame({\n",
        "    'uniqueID': df_test['uniqueID'],\n",
        "    'classID': predicted_classes\n",
        "})"
      ],
      "metadata": {
        "id": "qpAze6BuEtBy"
      },
      "execution_count": null,
      "outputs": []
    },
    {
      "cell_type": "code",
      "source": [
        "submission_df.head()"
      ],
      "metadata": {
        "id": "6GrK9wc3Evm5"
      },
      "execution_count": null,
      "outputs": []
    },
    {
      "cell_type": "code",
      "source": [
        "submission_df.to_csv('submission.csv', index=False)"
      ],
      "metadata": {
        "id": "d5tkx8JYEyGP"
      },
      "execution_count": null,
      "outputs": []
    },
    {
      "cell_type": "code",
      "source": [
        "! kaggle competitions submit -c bttai-nybg-2024 -f submission.csv -m \"Starflowers-NYC (Using Emodel)\""
      ],
      "metadata": {
        "id": "ZwosejNIE0sY"
      },
      "execution_count": null,
      "outputs": []
    }
  ],
  "metadata": {
    "kernelspec": {
      "display_name": "Python 3",
      "name": "python3"
    },
    "language_info": {
      "codemirror_mode": {
        "name": "ipython",
        "version": 3
      },
      "file_extension": ".py",
      "mimetype": "text/x-python",
      "name": "python",
      "nbconvert_exporter": "python",
      "pygments_lexer": "ipython3",
      "version": "3.11.8"
    },
    "colab": {
      "provenance": [],
      "machine_shape": "hm",
      "gpuType": "A100"
    },
    "accelerator": "GPU"
  },
  "nbformat": 4,
  "nbformat_minor": 0
}